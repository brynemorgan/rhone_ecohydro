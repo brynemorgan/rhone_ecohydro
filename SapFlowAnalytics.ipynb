{
 "cells": [
  {
   "cell_type": "markdown",
   "metadata": {},
   "source": [
    "## Determination of the Rate of dT/dt Following Heat Pulse\n",
    "\n",
    "We want to determine the sap flow velocity based on the evolution of probe temperature in the upstream thermocouple after a heat pulse is applied to a heater downstream of the thermocouple.\n",
    "\n",
    "To do so, we adopt the solution to the advection-diffusion equation for the evolution of the difference between intial temperature, $T_0$ and the current temperature $T(t)$, which we define as $T^{\\prime}(t) = T(t) - T_0$:\n",
    "\n",
    "$ T^{\\prime}(t) = \\frac{Q}{4\\pi kt}\\mbox{exp}\\left(\\frac{-(x-vt)^2}{4kt}\\right)$\n",
    "\n",
    "We take the derivative of this equation with respect to $t$, which gives us the rate of change of\n",
    "\n",
    "$\\frac{d}{dt} T^{\\prime} = -\\frac{Q e^{\\frac{-(x-vt)^2}{4kt}}\n",
    "\\left(4kt - t^2v^2 - x^2\\right)} {16 \\pi k^2t^3}$\n",
    "\n",
    "Setting $d T^{\\prime}/dt $ equal to zero and solving for the postivie root of $t$ yields\n",
    "\n",
    "$ t_{T^{\\prime}_{max}} = \\frac{-2k + \\sqrt{4k^2 + v^2x^2}}{v^2} $\n",
    "\n",
    "which is the time at which the thermocouple temperature difference is at a maximum following a pulse of heat injected from the heater. \n",
    "\n",
    "Operationally, we use these relationships to estimate the velocity of sap flow, $v$, based on monitoring the value of $T^{\\prime}$ until we detect the maximum value. We then use the observed value of $ t_{T^{\\prime}_{max}}$ to estimate the sap velocity according to\n",
    "\n",
    "$ v = \\frac{\\sqrt{=4kt + x^2}}{t} $\n",
    "\n",
    "\n"
   ]
  },
  {
   "cell_type": "code",
   "execution_count": 124,
   "metadata": {},
   "outputs": [],
   "source": [
    "import numpy as np\n",
    "import pandas as pd\n",
    "import matplotlib.pyplot as plt\n",
    "import seaborn as sns\n",
    "from math import pi, exp"
   ]
  },
  {
   "cell_type": "markdown",
   "metadata": {},
   "source": [
    "## Probe geometry\n",
    "\n",
    "We are using a heater probe to inject heat into the xylem and then a thermocouple placed some distance upstream to observe the flow of heat due to advection and diffusion via sap flow and xylem tissue.\n",
    "\n",
    "The length of the heater, $l$ is taken to be 5.5 cm, and the upstream thermocouple is located at a distance $x_upstream$, taken to be 2.5 cm. We assume that there is no lateral displacement between the thermocouple and the heater (i.e. $y=0$) so that this is 1-d heat flow."
   ]
  },
  {
   "cell_type": "code",
   "execution_count": 125,
   "metadata": {},
   "outputs": [],
   "source": [
    "l = 5.5 #  Length of the line heater in cm\n",
    "\n",
    "x_downstream = 0.0 # distance in xaxis from heater in cm\n",
    "x_upstream = 2.5 # distance in xaxis from heater in cm\n",
    "y = 0 # distance in yaxis from heater in cm (assumed to be zero)"
   ]
  },
  {
   "cell_type": "markdown",
   "metadata": {
    "collapsed": true
   },
   "source": [
    "## Heat injection via heater probe\n",
    "\n",
    "The heater liberates an amount of heat per unit length $J$ [J/m], according to the current draw of the heater, $A$, the line voltage, $V$ [V], and the duration of the heat pulse, $t_p$ [sec] according to $J = \\frac{Av}{t_p l}$. Typically, $A$ is between 6-7A when v is 12V and $t_p$ is 1 second."
   ]
  },
  {
   "cell_type": "code",
   "execution_count": 126,
   "metadata": {},
   "outputs": [],
   "source": [
    "A = 6.5 # The amps drawb by the heater (typically 6-7A for 12V)\n",
    "v = 12  # Heater voltage (usually 12)\n",
    "t_p = 1 # Duraction of the pulse in seconds (assume 1 for instant)"
   ]
  },
  {
   "cell_type": "code",
   "execution_count": 127,
   "metadata": {},
   "outputs": [],
   "source": [
    "# The heat liberated per unit length\n",
    "J = (A*v)/t_p/l"
   ]
  },
  {
   "cell_type": "markdown",
   "metadata": {},
   "source": [
    "## Temperature change associated with heat injection\n",
    "\n",
    "The change temperature, $Q$, caused by an injection of heat, $J$, is affected by the density, $\\rho_w$ [g/cm$^3$], and specific heat of water, $C_p$ [J/cm$^3$/K] according to\n",
    "\n",
    "$Q = J\\frac{\\rho_w}{C_p}$.\n",
    "\n",
    "The value of both $\\rho_w$ and $C_p$ vary according to xylem temperature \n",
    "according to\n",
    "\n",
    "$C_p = \\left(4175+1.66 e^{\\frac{34.5-T}{10.6}} + e^{\\frac{34.5-T}{10.6}}\\right)/1000 $\n",
    "\n",
    "and \n",
    "\n",
    "$\\rho_w = \\left(1000 - (0.019548*(T-3.98))^{1.68}\\right)/1000$\n"
   ]
  },
  {
   "cell_type": "code",
   "execution_count": 128,
   "metadata": {},
   "outputs": [],
   "source": [
    "# The temperature to which the amount of heat liberated per unit\n",
    "# length would raise a unit volume is:\n",
    "#\n",
    "# cp_w = 4.186 J/(deg-C g) * 1/rho_w * 1/10^3 [J/(deg-C cm^3)]"
   ]
  },
  {
   "cell_type": "code",
   "execution_count": 129,
   "metadata": {},
   "outputs": [],
   "source": [
    "from math import exp\n",
    "\n",
    "T = 20 # Temperature of the xylem in deg-C (assume 20 for now)\n",
    "\n",
    "rho_w = (1000 - pow(0.019549*(T-3.98),1.68))/1000 # g/cm^3 (Heggen, 1983)\n",
    "\n",
    "# Specific heat of water in J kg^-1 K^-1, T in deg-C (Heggen, 1983)\n",
    "cp_w = 4175 + 1.66*(exp((34.5 - T)/10.6) + exp(-1*(34.5 - T)/10.6))\n",
    "cp_w = cp_w/1000 # J g^-1 K^-1\n",
    "cp_w = cp_w/rho_w # J [cm^3]^-1 K^-1\n",
    "\n",
    "Q = J/cp_w"
   ]
  },
  {
   "cell_type": "code",
   "execution_count": 130,
   "metadata": {},
   "outputs": [],
   "source": [
    "t = np.arange(0.5,1000,0.5) # Time since pulse injection, [sec]\n",
    "k = 0.003 # Thermal conductivity, cm^2/sec (Marshall, 1958)\n",
    "sap_velocity = 20 # Sap velocity in cm per hour.\n",
    "V = sap_velocity/60/60 # Sap velocity in cm/sec"
   ]
  },
  {
   "cell_type": "code",
   "execution_count": 131,
   "metadata": {},
   "outputs": [],
   "source": [
    "def T_diff(Q,x,t,V=10/60/60,y=0,k=0.003):\n",
    "    \"\"\"Temperature difference\"\"\"\n",
    "    from math import pi, exp\n",
    "    return (Q/(4*pi*k*t))*exp(-(pow(x-V*t,2)-pow(y,2))/(4*k*t))"
   ]
  },
  {
   "cell_type": "code",
   "execution_count": 132,
   "metadata": {},
   "outputs": [
    {
     "data": {
      "image/png": "[encoded data removed]",
      "text/plain": [
       "<Figure size 432x288 with 1 Axes>"
      ]
     },
     "metadata": {
      "needs_background": "light"
     },
     "output_type": "display_data"
    }
   ],
   "source": [
    "T_diff_upstream=(Q/(4*pi*k*t))*np.exp(-(pow(x_upstream-V*t,2)-pow(y,2))/(4*k*t))\n",
    "T_diff_heater=(Q/(4*pi*k*t))*np.exp(-(pow(x_downstream-V*t,2)-pow(y,2))/(4*k*t))\n",
    "df = pd.DataFrame({\n",
    "    'time':t,\n",
    "    'upstream':T_diff_upstream,\n",
    "    'heater':T_diff_heater\n",
    "})\n",
    "df.set_index('time')\n",
    "df['upstream'].plot()\n",
    "plt.show()"
   ]
  },
  {
   "cell_type": "code",
   "execution_count": 133,
   "metadata": {},
   "outputs": [],
   "source": [
    "def T_diff_derivative(Q,x,t,V=10/60/60,k=0.003):\n",
    "    \"\"\" Derivative of the temperature difference between heater and probe \"\"\"\n",
    "    from math import pi\n",
    "    return Q*np.exp(-pow((x-t*v),2)/(4*k*t))*(pow(x,2)-t*(4*k+t*pow(v,2)))/(16*pi*pow(k,2)*pow(t^3))"
   ]
  },
  {
   "cell_type": "code",
   "execution_count": 134,
   "metadata": {},
   "outputs": [
    {
     "data": {
      "text/plain": [
       "<matplotlib.axes._subplots.AxesSubplot at 0x1a246b7550>"
      ]
     },
     "execution_count": 134,
     "metadata": {},
     "output_type": "execute_result"
    },
    {
     "data": {
      "image/png": "[encoded data removed]",
      "text/plain": [
       "<Figure size 432x288 with 1 Axes>"
      ]
     },
     "metadata": {
      "needs_background": "light"
     },
     "output_type": "display_data"
    }
   ],
   "source": [
    "dTdt = Q*np.exp(-pow((x_upstream-t*V),2)/(4*k*t))*(pow(x_upstream,2)-t*(4*k+t*pow(V,2)))/(16*pi*pow(k,2)*pow(t,3))\n",
    "df = pd.DataFrame({\n",
    "    'time':t,\n",
    "    'dTdt': dTdt,\n",
    "})\n",
    "df.set_index('time')\n",
    "df['dTdt'].plot()"
   ]
  },
  {
   "cell_type": "code",
   "execution_count": 135,
   "metadata": {},
   "outputs": [],
   "source": [
    "def t_max_diff(x,V=10/60/60,k=0.003):\n",
    "    return (-2*k+pow((4*pow(k,2)+pow(V,2)*pow(x,2)),1/2))/pow(V,2)\n",
    "\n",
    "\n",
    "def v_from_t_max_diff(t_max,x,V=10/60/60,k=0.003):\n",
    "    \"\"\" Sap velocity as a function of time to max temp diff \"\"\"\n",
    "    return (pow(-4*k*t_max+pow(x,2),1/2)/t_max)"
   ]
  },
  {
   "cell_type": "code",
   "execution_count": 136,
   "metadata": {},
   "outputs": [
    {
     "name": "stdout",
     "output_type": "stream",
     "text": [
      "0.005555555555555554\n"
     ]
    }
   ],
   "source": [
    "t_max = t_max_diff(x_upstream,V,k)\n",
    "print(v_from_t_max_diff(t_max,x_upstream,V,k))"
   ]
  }
 ],
 "metadata": {
  "kernelspec": {
   "display_name": "Python 3",
   "language": "python",
   "name": "python3"
  },
  "language_info": {
   "codemirror_mode": {
    "name": "ipython",
    "version": 3
   },
   "file_extension": ".py",
   "mimetype": "text/x-python",
   "name": "python",
   "nbconvert_exporter": "python",
   "pygments_lexer": "ipython3",
   "version": "3.7.0"
  }
 },
 "nbformat": 4,
 "nbformat_minor": 2
}
